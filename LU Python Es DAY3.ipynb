{
 "cells": [
  {
   "cell_type": "code",
   "execution_count": null,
   "metadata": {},
   "outputs": [],
   "source": [
    "n=int(input(\"enter the number\"))\n",
    "Sum1=0\n",
    "i=1\n",
    "while i<=n:\n",
    "     Sum1=Sum1+i\n",
    "     i=i+1\n",
    "print(\"the sum is \",Sum1)\n",
    "      "
   ]
  },
  {
   "cell_type": "code",
   "execution_count": null,
   "metadata": {},
   "outputs": [],
   "source": [
    "number=int(input(\"enter the number\"))\n",
    "flag=0\n",
    "if number>1:\n",
    "    for i in range (2,number):\n",
    "        if number%i ==0:\n",
    "            flag=1\n",
    "            print(\"is a  not prime number\")\n",
    "        break\n",
    "if flag==0:\n",
    "        print(\"it is prome number\")\n",
    "\n",
    "        \n"
   ]
  },
  {
   "cell_type": "code",
   "execution_count": null,
   "metadata": {},
   "outputs": [],
   "source": []
  }
 ],
 "metadata": {
  "kernelspec": {
   "display_name": "Python 3",
   "language": "python",
   "name": "python3"
  },
  "language_info": {
   "codemirror_mode": {
    "name": "ipython",
    "version": 3
   },
   "file_extension": ".py",
   "mimetype": "text/x-python",
   "name": "python",
   "nbconvert_exporter": "python",
   "pygments_lexer": "ipython3",
   "version": "3.7.6"
  }
 },
 "nbformat": 4,
 "nbformat_minor": 4
}
